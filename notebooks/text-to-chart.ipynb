{
 "cells": [
  {
   "cell_type": "code",
   "execution_count": 1,
   "id": "4de696f0-6a14-44da-ae1e-bf431f93c757",
   "metadata": {},
   "outputs": [
    {
     "data": {
      "text/plain": [
       "True"
      ]
     },
     "execution_count": 1,
     "metadata": {},
     "output_type": "execute_result"
    }
   ],
   "source": [
    "import os\n",
    "from dotenv import load_dotenv\n",
    "import pandas as pd\n",
    "\n",
    "load_dotenv()"
   ]
  },
  {
   "cell_type": "code",
   "execution_count": 2,
   "id": "bc08549e-a6af-4acf-a049-30b9cc605714",
   "metadata": {},
   "outputs": [
    {
     "data": {
      "text/html": [
       "<div>\n",
       "<style scoped>\n",
       "    .dataframe tbody tr th:only-of-type {\n",
       "        vertical-align: middle;\n",
       "    }\n",
       "\n",
       "    .dataframe tbody tr th {\n",
       "        vertical-align: top;\n",
       "    }\n",
       "\n",
       "    .dataframe thead th {\n",
       "        text-align: right;\n",
       "    }\n",
       "</style>\n",
       "<table border=\"1\" class=\"dataframe\">\n",
       "  <thead>\n",
       "    <tr style=\"text-align: right;\">\n",
       "      <th></th>\n",
       "      <th>Id</th>\n",
       "      <th>SepalLengthCm</th>\n",
       "      <th>SepalWidthCm</th>\n",
       "      <th>PetalLengthCm</th>\n",
       "      <th>PetalWidthCm</th>\n",
       "      <th>Species</th>\n",
       "    </tr>\n",
       "  </thead>\n",
       "  <tbody>\n",
       "    <tr>\n",
       "      <th>0</th>\n",
       "      <td>1</td>\n",
       "      <td>5.1</td>\n",
       "      <td>3.5</td>\n",
       "      <td>1.4</td>\n",
       "      <td>0.2</td>\n",
       "      <td>Iris-setosa</td>\n",
       "    </tr>\n",
       "    <tr>\n",
       "      <th>1</th>\n",
       "      <td>2</td>\n",
       "      <td>4.9</td>\n",
       "      <td>3.0</td>\n",
       "      <td>1.4</td>\n",
       "      <td>0.2</td>\n",
       "      <td>Iris-setosa</td>\n",
       "    </tr>\n",
       "    <tr>\n",
       "      <th>2</th>\n",
       "      <td>3</td>\n",
       "      <td>4.7</td>\n",
       "      <td>3.2</td>\n",
       "      <td>1.3</td>\n",
       "      <td>0.2</td>\n",
       "      <td>Iris-setosa</td>\n",
       "    </tr>\n",
       "    <tr>\n",
       "      <th>3</th>\n",
       "      <td>4</td>\n",
       "      <td>4.6</td>\n",
       "      <td>3.1</td>\n",
       "      <td>1.5</td>\n",
       "      <td>0.2</td>\n",
       "      <td>Iris-setosa</td>\n",
       "    </tr>\n",
       "    <tr>\n",
       "      <th>4</th>\n",
       "      <td>5</td>\n",
       "      <td>5.0</td>\n",
       "      <td>3.6</td>\n",
       "      <td>1.4</td>\n",
       "      <td>0.2</td>\n",
       "      <td>Iris-setosa</td>\n",
       "    </tr>\n",
       "  </tbody>\n",
       "</table>\n",
       "</div>"
      ],
      "text/plain": [
       "   Id  SepalLengthCm  SepalWidthCm  PetalLengthCm  PetalWidthCm      Species\n",
       "0   1            5.1           3.5            1.4           0.2  Iris-setosa\n",
       "1   2            4.9           3.0            1.4           0.2  Iris-setosa\n",
       "2   3            4.7           3.2            1.3           0.2  Iris-setosa\n",
       "3   4            4.6           3.1            1.5           0.2  Iris-setosa\n",
       "4   5            5.0           3.6            1.4           0.2  Iris-setosa"
      ]
     },
     "execution_count": 2,
     "metadata": {},
     "output_type": "execute_result"
    }
   ],
   "source": [
    "df = pd.read_csv(\"./data/Iris.csv\")\n",
    "df.head()"
   ]
  },
  {
   "cell_type": "code",
   "execution_count": 3,
   "id": "64529128-1fb6-460b-bbf6-000c7f274adf",
   "metadata": {},
   "outputs": [],
   "source": [
    "# 1. Use GenAI to understand schema of data, identify columns and numeric data types (Can explore infer schema functionality)\n",
    "# 2. Use this schema as prompt context and generate visualization code"
   ]
  },
  {
   "cell_type": "code",
   "execution_count": 17,
   "id": "ff5c6a5b-7627-4620-a2fc-e07f6a857286",
   "metadata": {},
   "outputs": [
    {
     "data": {
      "image/png": "[encoded data removed]",
      "text/plain": [
       "<Figure size 640x480 with 1 Axes>"
      ]
     },
     "metadata": {},
     "output_type": "display_data"
    }
   ],
   "source": [
    "import os\n",
    "from dotenv import load_dotenv\n",
    "import pandas as pd\n",
    "load_dotenv()\n",
    "\n",
    "\n",
    "from langchain_openai import ChatOpenAI\n",
    "from langchain_core.prompts import ChatPromptTemplate\n",
    "from langchain_core.output_parsers import StrOutputParser\n",
    "\n",
    "\n",
    "def __df_metadata(df):\n",
    "    \"\"\"Generate schema for pandas dataframe.\"\"\"\n",
    "    schema = {}\n",
    "    for i in zip(df.columns, df.dtypes):\n",
    "        schema[i[0]] = str(i[1])\n",
    "    return str(schema)\n",
    "\n",
    "\n",
    "def generate_seaborn_code(df, user_prompt):\n",
    "    \"\"\"Generate seaborn code using LLMs.\"\"\"\n",
    "    schema = __df_metadata(df)\n",
    "    \n",
    "    # Define LLM and prompt\n",
    "    llm = ChatOpenAI(temperature=0)\n",
    "    prompt = ChatPromptTemplate.from_messages([\n",
    "        (\"system\", \"You are world class python programmer and expert in using Seaborn libraries.\"),\n",
    "        (\"user\", \"\"\"Assume you have a data frame `df` with the following schema: {schema}. {input}. Dont create your own data, only give code as the output\"\"\")\n",
    "    ])\n",
    "    output_parser = StrOutputParser()\n",
    "    chain = prompt | llm | output_parser\n",
    "    result = chain.invoke({\"schema\": schema, \"input\": user_prompt})\n",
    "    parsed_code = result.replace(\"```python\", \"\").replace(\"```\", \"\")\n",
    "\n",
    "    return parsed_code\n",
    "\n",
    "\n",
    "def run_generated_code(parsed_code):\n",
    "    \"\"\"Execure generated code.\"\"\"\n",
    "    # TODO: Validate code and add guardrails\n",
    "    exec(parsed_code)\n",
    "\n",
    "\n",
    "def generate_visualization(df, user_prompt):\n",
    "    \"\"\"Generate chart using user's data frame and prompt.\"\"\"\n",
    "    parsed_code = generate_seaborn_code(df, user_prompt)\n",
    "    run_generated_code(parsed_code)\n",
    "\n",
    "if __name__ == '__main__':\n",
    "    df = pd.read_csv(\"./data/Iris.csv\")\n",
    "    uer_input_prompt = \"write a python code using seaborn to show the distribution of SepalLengthCm\"\n",
    "    generate_visualization(df=df, user_prompt=uer_input_prompt)"
   ]
  },
  {
   "cell_type": "code",
   "execution_count": 71,
   "id": "fc9d34cc-f914-406a-acc9-e0484c45b557",
   "metadata": {},
   "outputs": [],
   "source": [
    "# from langchain_openai import ChatOpenAI\n",
    "# from langchain_core.prompts import ChatPromptTemplate\n",
    "# from langchain_core.output_parsers import StrOutputParser\n",
    "\n",
    "# llm = ChatOpenAI(temperature=0)\n",
    "# prompt = ChatPromptTemplate.from_messages([\n",
    "#     (\"system\", \"You are world class python programmer and expert in using Seaborn libraries.\"),\n",
    "#     (\"user\", \"{input}\")\n",
    "# ])\n",
    "# output_parser = StrOutputParser()\n",
    "\n",
    "# chain = prompt | llm | output_parser\n",
    "\n",
    "# result = chain.invoke({\"input\": \"\"\" Assume you have a data frame `df` with the below schema, write a python code using seaborn to show the distribution of SepalLengthCm\n",
    "# ```\n",
    "# Id                 int64\n",
    "# SepalLengthCm    float64\n",
    "# SepalWidthCm     float64\n",
    "# PetalLengthCm    float64\n",
    "# PetalWidthCm     float64\n",
    "# Species           object\n",
    "# ```\n",
    "# Dont create your own data, only give code as the output\"\"\"})\n",
    "\n",
    "# parsed_code = result.replace(\"```python\", \"\").replace(\"```\", \"\")\n",
    "\n",
    "# print(parsed_code)\n",
    "# exec(parsed_code)"
   ]
  },
  {
   "cell_type": "code",
   "execution_count": null,
   "id": "783f47a4-4d09-4b5e-91e0-8b2897c4ecfd",
   "metadata": {},
   "outputs": [],
   "source": []
  }
 ],
 "metadata": {
  "kernelspec": {
   "display_name": "py-hf",
   "language": "python",
   "name": "py-hf"
  },
  "language_info": {
   "codemirror_mode": {
    "name": "ipython",
    "version": 3
   },
   "file_extension": ".py",
   "mimetype": "text/x-python",
   "name": "python",
   "nbconvert_exporter": "python",
   "pygments_lexer": "ipython3",
   "version": "3.9.18"
  }
 },
 "nbformat": 4,
 "nbformat_minor": 5
}
